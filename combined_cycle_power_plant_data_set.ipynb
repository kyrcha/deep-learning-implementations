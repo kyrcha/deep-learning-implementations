{
  "nbformat": 4,
  "nbformat_minor": 0,
  "metadata": {
    "colab": {
      "name": "Combined Cycle Power Plant Data Set.ipynb",
      "provenance": [],
      "collapsed_sections": [],
      "include_colab_link": true
    },
    "kernelspec": {
      "name": "python3",
      "display_name": "Python 3"
    }
  },
  "cells": [
    {
      "cell_type": "markdown",
      "metadata": {
        "id": "view-in-github",
        "colab_type": "text"
      },
      "source": [
        "<a href=\"https://colab.research.google.com/github/kyrcha/deep-learning-pipelines/blob/master/combined_cycle_power_plant_data_set.ipynb\" target=\"_parent\"><img src=\"https://colab.research.google.com/assets/colab-badge.svg\" alt=\"Open In Colab\"/></a>"
      ]
    },
    {
      "cell_type": "markdown",
      "metadata": {
        "id": "7vVwx0YLUsXC",
        "colab_type": "text"
      },
      "source": [
        "# Combined Cycle Power Plant Data Set\n",
        "\n",
        "Dataset URL: https://archive.ics.uci.edu/ml/datasets/combined+cycle+power+plant\n",
        "\n",
        "For this regression task, given the hourly average ambient variables:\n",
        "\n",
        "* Temperature (T), \n",
        "* Ambient Pressure (AP), \n",
        "* Relative Humidity (RH) and \n",
        "* Exhaust Vacuum (V) \n",
        "\n",
        "the goal is to predict the net hourly electrical energy output (EP) of the plant.\n",
        "\n",
        "The authors of the dataset have given us 5 random shuffles of the dataset, one in each xlsx sheet. We will be using one of them and make a 60-20-20 split: 60% for training, 20% for validation (used for early stopping) and 20% for testing.\n",
        "\n",
        "## Data reading\n",
        "\n",
        "Let's go ahead and read the first random shuffle.\n"
      ]
    },
    {
      "cell_type": "code",
      "metadata": {
        "id": "Yl36kg_ZW0u4",
        "colab_type": "code",
        "colab": {}
      },
      "source": [
        "# importing some necessary libraries\n",
        "import matplotlib.pyplot as plt\n",
        "import pandas as pd\n",
        "import zipfile\n",
        "\n",
        "import tensorflow as tf\n",
        "from tensorflow import keras\n",
        "from tensorflow.keras import layers\n"
      ],
      "execution_count": 0,
      "outputs": []
    },
    {
      "cell_type": "code",
      "metadata": {
        "id": "EMMy1KX1YO_8",
        "colab_type": "code",
        "outputId": "43f2cb73-60d1-4169-c2ee-511fd4e5eb09",
        "colab": {
          "base_uri": "https://localhost:8080/",
          "height": 68
        }
      },
      "source": [
        "# downloading the dataset\n",
        "dataset_path = keras.utils.get_file(\"CCPP.zip\", \"https://archive.ics.uci.edu/ml/machine-learning-databases/00294/CCPP.zip\")\n",
        "dataset_path"
      ],
      "execution_count": 0,
      "outputs": [
        {
          "output_type": "stream",
          "text": [
            "Downloading data from https://archive.ics.uci.edu/ml/machine-learning-databases/00294/CCPP.zip\n",
            "3678208/3674852 [==============================] - 0s 0us/step\n"
          ],
          "name": "stdout"
        },
        {
          "output_type": "execute_result",
          "data": {
            "text/plain": [
              "'/root/.keras/datasets/CCPP.zip'"
            ]
          },
          "metadata": {
            "tags": []
          },
          "execution_count": 2
        }
      ]
    },
    {
      "cell_type": "code",
      "metadata": {
        "id": "JjaDzd9xYgI2",
        "colab_type": "code",
        "colab": {}
      },
      "source": [
        "# unzipping\n",
        "with zipfile.ZipFile(dataset_path, 'r') as zip_ref:\n",
        "    zip_ref.extractall('.')"
      ],
      "execution_count": 0,
      "outputs": []
    },
    {
      "cell_type": "code",
      "metadata": {
        "id": "Y2i4SEb7Y8Ca",
        "colab_type": "code",
        "outputId": "fe05f893-2c9a-4dd1-b974-88e380b12184",
        "colab": {
          "base_uri": "https://localhost:8080/",
          "height": 204
        }
      },
      "source": [
        "# reading the first sheet\n",
        "data = pd.read_excel(open('./CCPP/Folds5x2_pp.xlsx', 'rb'), sheet_name='Sheet1')\n",
        "# check if data is loaded correctly\n",
        "data.head()"
      ],
      "execution_count": 0,
      "outputs": [
        {
          "output_type": "execute_result",
          "data": {
            "text/html": [
              "<div>\n",
              "<style scoped>\n",
              "    .dataframe tbody tr th:only-of-type {\n",
              "        vertical-align: middle;\n",
              "    }\n",
              "\n",
              "    .dataframe tbody tr th {\n",
              "        vertical-align: top;\n",
              "    }\n",
              "\n",
              "    .dataframe thead th {\n",
              "        text-align: right;\n",
              "    }\n",
              "</style>\n",
              "<table border=\"1\" class=\"dataframe\">\n",
              "  <thead>\n",
              "    <tr style=\"text-align: right;\">\n",
              "      <th></th>\n",
              "      <th>AT</th>\n",
              "      <th>V</th>\n",
              "      <th>AP</th>\n",
              "      <th>RH</th>\n",
              "      <th>PE</th>\n",
              "    </tr>\n",
              "  </thead>\n",
              "  <tbody>\n",
              "    <tr>\n",
              "      <th>0</th>\n",
              "      <td>14.96</td>\n",
              "      <td>41.76</td>\n",
              "      <td>1024.07</td>\n",
              "      <td>73.17</td>\n",
              "      <td>463.26</td>\n",
              "    </tr>\n",
              "    <tr>\n",
              "      <th>1</th>\n",
              "      <td>25.18</td>\n",
              "      <td>62.96</td>\n",
              "      <td>1020.04</td>\n",
              "      <td>59.08</td>\n",
              "      <td>444.37</td>\n",
              "    </tr>\n",
              "    <tr>\n",
              "      <th>2</th>\n",
              "      <td>5.11</td>\n",
              "      <td>39.40</td>\n",
              "      <td>1012.16</td>\n",
              "      <td>92.14</td>\n",
              "      <td>488.56</td>\n",
              "    </tr>\n",
              "    <tr>\n",
              "      <th>3</th>\n",
              "      <td>20.86</td>\n",
              "      <td>57.32</td>\n",
              "      <td>1010.24</td>\n",
              "      <td>76.64</td>\n",
              "      <td>446.48</td>\n",
              "    </tr>\n",
              "    <tr>\n",
              "      <th>4</th>\n",
              "      <td>10.82</td>\n",
              "      <td>37.50</td>\n",
              "      <td>1009.23</td>\n",
              "      <td>96.62</td>\n",
              "      <td>473.90</td>\n",
              "    </tr>\n",
              "  </tbody>\n",
              "</table>\n",
              "</div>"
            ],
            "text/plain": [
              "      AT      V       AP     RH      PE\n",
              "0  14.96  41.76  1024.07  73.17  463.26\n",
              "1  25.18  62.96  1020.04  59.08  444.37\n",
              "2   5.11  39.40  1012.16  92.14  488.56\n",
              "3  20.86  57.32  1010.24  76.64  446.48\n",
              "4  10.82  37.50  1009.23  96.62  473.90"
            ]
          },
          "metadata": {
            "tags": []
          },
          "execution_count": 4
        }
      ]
    },
    {
      "cell_type": "code",
      "metadata": {
        "id": "Fvrzo0eVaD-j",
        "colab_type": "code",
        "outputId": "82f79556-8630-401a-b65c-61d1adb6165e",
        "colab": {
          "base_uri": "https://localhost:8080/",
          "height": 297
        }
      },
      "source": [
        "# Statistical summary of the dataset\n",
        "data.describe()"
      ],
      "execution_count": 0,
      "outputs": [
        {
          "output_type": "execute_result",
          "data": {
            "text/html": [
              "<div>\n",
              "<style scoped>\n",
              "    .dataframe tbody tr th:only-of-type {\n",
              "        vertical-align: middle;\n",
              "    }\n",
              "\n",
              "    .dataframe tbody tr th {\n",
              "        vertical-align: top;\n",
              "    }\n",
              "\n",
              "    .dataframe thead th {\n",
              "        text-align: right;\n",
              "    }\n",
              "</style>\n",
              "<table border=\"1\" class=\"dataframe\">\n",
              "  <thead>\n",
              "    <tr style=\"text-align: right;\">\n",
              "      <th></th>\n",
              "      <th>AT</th>\n",
              "      <th>V</th>\n",
              "      <th>AP</th>\n",
              "      <th>RH</th>\n",
              "      <th>PE</th>\n",
              "    </tr>\n",
              "  </thead>\n",
              "  <tbody>\n",
              "    <tr>\n",
              "      <th>count</th>\n",
              "      <td>9568.000000</td>\n",
              "      <td>9568.000000</td>\n",
              "      <td>9568.000000</td>\n",
              "      <td>9568.000000</td>\n",
              "      <td>9568.000000</td>\n",
              "    </tr>\n",
              "    <tr>\n",
              "      <th>mean</th>\n",
              "      <td>19.651231</td>\n",
              "      <td>54.305804</td>\n",
              "      <td>1013.259078</td>\n",
              "      <td>73.308978</td>\n",
              "      <td>454.365009</td>\n",
              "    </tr>\n",
              "    <tr>\n",
              "      <th>std</th>\n",
              "      <td>7.452473</td>\n",
              "      <td>12.707893</td>\n",
              "      <td>5.938784</td>\n",
              "      <td>14.600269</td>\n",
              "      <td>17.066995</td>\n",
              "    </tr>\n",
              "    <tr>\n",
              "      <th>min</th>\n",
              "      <td>1.810000</td>\n",
              "      <td>25.360000</td>\n",
              "      <td>992.890000</td>\n",
              "      <td>25.560000</td>\n",
              "      <td>420.260000</td>\n",
              "    </tr>\n",
              "    <tr>\n",
              "      <th>25%</th>\n",
              "      <td>13.510000</td>\n",
              "      <td>41.740000</td>\n",
              "      <td>1009.100000</td>\n",
              "      <td>63.327500</td>\n",
              "      <td>439.750000</td>\n",
              "    </tr>\n",
              "    <tr>\n",
              "      <th>50%</th>\n",
              "      <td>20.345000</td>\n",
              "      <td>52.080000</td>\n",
              "      <td>1012.940000</td>\n",
              "      <td>74.975000</td>\n",
              "      <td>451.550000</td>\n",
              "    </tr>\n",
              "    <tr>\n",
              "      <th>75%</th>\n",
              "      <td>25.720000</td>\n",
              "      <td>66.540000</td>\n",
              "      <td>1017.260000</td>\n",
              "      <td>84.830000</td>\n",
              "      <td>468.430000</td>\n",
              "    </tr>\n",
              "    <tr>\n",
              "      <th>max</th>\n",
              "      <td>37.110000</td>\n",
              "      <td>81.560000</td>\n",
              "      <td>1033.300000</td>\n",
              "      <td>100.160000</td>\n",
              "      <td>495.760000</td>\n",
              "    </tr>\n",
              "  </tbody>\n",
              "</table>\n",
              "</div>"
            ],
            "text/plain": [
              "                AT            V           AP           RH           PE\n",
              "count  9568.000000  9568.000000  9568.000000  9568.000000  9568.000000\n",
              "mean     19.651231    54.305804  1013.259078    73.308978   454.365009\n",
              "std       7.452473    12.707893     5.938784    14.600269    17.066995\n",
              "min       1.810000    25.360000   992.890000    25.560000   420.260000\n",
              "25%      13.510000    41.740000  1009.100000    63.327500   439.750000\n",
              "50%      20.345000    52.080000  1012.940000    74.975000   451.550000\n",
              "75%      25.720000    66.540000  1017.260000    84.830000   468.430000\n",
              "max      37.110000    81.560000  1033.300000   100.160000   495.760000"
            ]
          },
          "metadata": {
            "tags": []
          },
          "execution_count": 5
        }
      ]
    },
    {
      "cell_type": "markdown",
      "metadata": {
        "id": "dhNkTVFZaJXU",
        "colab_type": "text"
      },
      "source": [
        "We see that the variables are in different scales and ranges so some pre-processing is needed."
      ]
    },
    {
      "cell_type": "markdown",
      "metadata": {
        "id": "6L2nk5DjW287",
        "colab_type": "text"
      },
      "source": [
        "## Data preprocessing\n",
        "\n",
        "Neural networks work best with normalized features. So we will extract the min and max from the training set and use those to normalize the values on the training, validation and test sets."
      ]
    },
    {
      "cell_type": "code",
      "metadata": {
        "id": "3LyNhcE1UrNJ",
        "colab_type": "code",
        "outputId": "e12a3e91-303b-4c61-f85a-9ab201d16b62",
        "colab": {
          "base_uri": "https://localhost:8080/",
          "height": 119
        }
      },
      "source": [
        "# Check if we have unknown values\n",
        "data.isna().sum()"
      ],
      "execution_count": 0,
      "outputs": [
        {
          "output_type": "execute_result",
          "data": {
            "text/plain": [
              "AT    0\n",
              "V     0\n",
              "AP    0\n",
              "RH    0\n",
              "PE    0\n",
              "dtype: int64"
            ]
          },
          "metadata": {
            "tags": []
          },
          "execution_count": 6
        }
      ]
    },
    {
      "cell_type": "code",
      "metadata": {
        "id": "z87BCIo6aXBv",
        "colab_type": "code",
        "colab": {}
      },
      "source": [
        "from sklearn.model_selection import train_test_split\n",
        "\n",
        "# split predictors and target features\n",
        "X = data[['AT', 'V', 'AP', 'RH']]\n",
        "y = data['PE']\n",
        "\n",
        "# split the data (60% training - 40% rest)\n",
        "X_train, X_temp, y_train, y_temp = train_test_split(X, y, test_size=0.4, \n",
        "                                                  random_state=42, \n",
        "                                                    shuffle = False)\n",
        "# split validation and test\n",
        "X_val, X_test, y_val, y_test = train_test_split(X_temp, y_temp, test_size=0.5, \n",
        "                                                  random_state=42, \n",
        "                                                shuffle = False)\n"
      ],
      "execution_count": 0,
      "outputs": []
    },
    {
      "cell_type": "code",
      "metadata": {
        "id": "7BGkcB7FbxCI",
        "colab_type": "code",
        "outputId": "362d8f15-bee9-4a01-b541-8ffacd86d560",
        "colab": {
          "base_uri": "https://localhost:8080/",
          "height": 68
        }
      },
      "source": [
        "# Check the data sizes\n",
        "print(X_train.shape)\n",
        "print(X_val.shape)\n",
        "print(X_test.shape)"
      ],
      "execution_count": 0,
      "outputs": [
        {
          "output_type": "stream",
          "text": [
            "(5740, 4)\n",
            "(1914, 4)\n",
            "(1914, 4)\n"
          ],
          "name": "stdout"
        }
      ]
    },
    {
      "cell_type": "code",
      "metadata": {
        "id": "3iYLAbwaceTm",
        "colab_type": "code",
        "outputId": "663765e3-a9a6-4281-cbd4-d9156d65ad66",
        "colab": {
          "base_uri": "https://localhost:8080/",
          "height": 111
        }
      },
      "source": [
        "stats = X_train.describe()\n",
        "\n",
        "def standardization(x):\n",
        "  return (x - stats.loc['mean']) / stats.loc['std']\n",
        "\n",
        "def normalization(x):\n",
        "  return (x - stats.loc['min']) / (stats.loc['max'] - stats.loc['min'])\n",
        "\n",
        "normed_train_data = normalization(X_train)\n",
        "normed_val_data = normalization(X_val)\n",
        "normed_test_data = normalization(X_test)\n",
        "\n",
        "# Check if normalization was performed correctly\n",
        "normed_train_data.describe().loc[['min', 'max']]"
      ],
      "execution_count": 0,
      "outputs": [
        {
          "output_type": "execute_result",
          "data": {
            "text/html": [
              "<div>\n",
              "<style scoped>\n",
              "    .dataframe tbody tr th:only-of-type {\n",
              "        vertical-align: middle;\n",
              "    }\n",
              "\n",
              "    .dataframe tbody tr th {\n",
              "        vertical-align: top;\n",
              "    }\n",
              "\n",
              "    .dataframe thead th {\n",
              "        text-align: right;\n",
              "    }\n",
              "</style>\n",
              "<table border=\"1\" class=\"dataframe\">\n",
              "  <thead>\n",
              "    <tr style=\"text-align: right;\">\n",
              "      <th></th>\n",
              "      <th>AT</th>\n",
              "      <th>V</th>\n",
              "      <th>AP</th>\n",
              "      <th>RH</th>\n",
              "    </tr>\n",
              "  </thead>\n",
              "  <tbody>\n",
              "    <tr>\n",
              "      <th>min</th>\n",
              "      <td>0.0</td>\n",
              "      <td>0.0</td>\n",
              "      <td>0.0</td>\n",
              "      <td>0.0</td>\n",
              "    </tr>\n",
              "    <tr>\n",
              "      <th>max</th>\n",
              "      <td>1.0</td>\n",
              "      <td>1.0</td>\n",
              "      <td>1.0</td>\n",
              "      <td>1.0</td>\n",
              "    </tr>\n",
              "  </tbody>\n",
              "</table>\n",
              "</div>"
            ],
            "text/plain": [
              "      AT    V   AP   RH\n",
              "min  0.0  0.0  0.0  0.0\n",
              "max  1.0  1.0  1.0  1.0"
            ]
          },
          "metadata": {
            "tags": []
          },
          "execution_count": 9
        }
      ]
    },
    {
      "cell_type": "markdown",
      "metadata": {
        "id": "Tb9phsMSU4g2",
        "colab_type": "text"
      },
      "source": [
        "## Model Definition\n",
        "\n",
        "With around 6000 training samples a good heuristic is to use a neural network with around 600 weights. Another way is to build a bigger network and add regularization. In our case we will use early stopping.\n",
        "\n"
      ]
    },
    {
      "cell_type": "code",
      "metadata": {
        "id": "aMuwe3qqeYll",
        "colab_type": "code",
        "outputId": "0eb44ac0-5dbc-463f-8463-b856b63b7262",
        "colab": {
          "base_uri": "https://localhost:8080/",
          "height": 105
        }
      },
      "source": [
        "l0 = tf.keras.layers.Dense(units=128, input_shape=(4,), \n",
        "                           activation='sigmoid')\n",
        "l1 = tf.keras.layers.Dense(units=32, activation='relu')\n",
        "l2 = tf.keras.layers.Dense(units=1, activation='linear')  \n",
        "\n",
        "optimizer = tf.keras.optimizers.Adam(0.001)\n",
        "\n",
        "early_stopping = tf.keras.callbacks.EarlyStopping(monitor='val_loss', patience=10)\n",
        "\n",
        "model = tf.keras.Sequential([l0, l1, l2])\n",
        "model.compile(optimizer = optimizer, \n",
        "              loss='mean_squared_error', \n",
        "              metrics = ['mean_absolute_error', 'mean_squared_error'])"
      ],
      "execution_count": 0,
      "outputs": [
        {
          "output_type": "stream",
          "text": [
            "WARNING: Logging before flag parsing goes to stderr.\n",
            "W0801 07:35:18.733334 140434851002240 deprecation.py:506] From /usr/local/lib/python3.6/dist-packages/tensorflow/python/ops/init_ops.py:1251: calling VarianceScaling.__init__ (from tensorflow.python.ops.init_ops) with dtype is deprecated and will be removed in a future version.\n",
            "Instructions for updating:\n",
            "Call initializer instance with the dtype argument instead of passing it to the constructor\n"
          ],
          "name": "stderr"
        }
      ]
    },
    {
      "cell_type": "code",
      "metadata": {
        "id": "t-78vdBryy3Q",
        "colab_type": "code",
        "outputId": "0c50c067-5383-4da9-9818-93b04adeda9f",
        "colab": {
          "base_uri": "https://localhost:8080/",
          "height": 255
        }
      },
      "source": [
        "model.summary()"
      ],
      "execution_count": 0,
      "outputs": [
        {
          "output_type": "stream",
          "text": [
            "Model: \"sequential\"\n",
            "_________________________________________________________________\n",
            "Layer (type)                 Output Shape              Param #   \n",
            "=================================================================\n",
            "dense (Dense)                (None, 128)               640       \n",
            "_________________________________________________________________\n",
            "dense_1 (Dense)              (None, 32)                4128      \n",
            "_________________________________________________________________\n",
            "dense_2 (Dense)              (None, 1)                 33        \n",
            "=================================================================\n",
            "Total params: 4,801\n",
            "Trainable params: 4,801\n",
            "Non-trainable params: 0\n",
            "_________________________________________________________________\n"
          ],
          "name": "stdout"
        }
      ]
    },
    {
      "cell_type": "markdown",
      "metadata": {
        "id": "JknmEzXcU613",
        "colab_type": "text"
      },
      "source": [
        "## Model Training"
      ]
    },
    {
      "cell_type": "code",
      "metadata": {
        "id": "jrt5DMlbeulI",
        "colab_type": "code",
        "outputId": "2b868731-e2b9-4cbf-d98e-d8b560e0eb06",
        "colab": {
          "base_uri": "https://localhost:8080/",
          "height": 34
        }
      },
      "source": [
        "history = model.fit(normed_train_data, y_train, \n",
        "                    epochs=200, \n",
        "                    validation_data=(normed_val_data, y_val),\n",
        "                    verbose=0,\n",
        "                    callbacks=[early_stopping])\n",
        "print('Finished training')"
      ],
      "execution_count": 0,
      "outputs": [
        {
          "output_type": "stream",
          "text": [
            "Finished training\n"
          ],
          "name": "stdout"
        }
      ]
    },
    {
      "cell_type": "markdown",
      "metadata": {
        "id": "6DBEijR-U9Sd",
        "colab_type": "text"
      },
      "source": [
        "## Learning curve visualization\n",
        "\n",
        "Let's plot the errors (training and validation)."
      ]
    },
    {
      "cell_type": "code",
      "metadata": {
        "id": "_4XI-skZg3cu",
        "colab_type": "code",
        "outputId": "f3c9a9a4-3fc8-41df-af51-1be11c9ebbda",
        "colab": {
          "base_uri": "https://localhost:8080/",
          "height": 283
        }
      },
      "source": [
        "hist = pd.DataFrame(history.history)\n",
        "hist['epoch'] = history.epoch\n",
        "\n",
        "plt.figure()\n",
        "plt.xlabel('Epoch')\n",
        "plt.ylabel('Mean Abs Error')\n",
        "plt.plot(hist['epoch'], hist['mean_absolute_error'],\n",
        "         label='Train Error')\n",
        "plt.plot(hist['epoch'], hist['val_mean_absolute_error'],\n",
        "         label = 'Val Error')\n",
        "plt.ylim([3,20])\n",
        "plt.legend()\n",
        "\n",
        "plt.show()"
      ],
      "execution_count": 0,
      "outputs": [
        {
          "output_type": "display_data",
          "data": {
            "image/png": "[encoded data removed]",
            "text/plain": [
              "<Figure size 432x288 with 1 Axes>"
            ]
          },
          "metadata": {
            "tags": []
          }
        }
      ]
    },
    {
      "cell_type": "markdown",
      "metadata": {
        "id": "JEBbc8MFVA_Q",
        "colab_type": "text"
      },
      "source": [
        "## Scatter plot of real vs predicted values for the test set\n",
        "\n",
        "And let's also plot the predicted values vs. the true values of the test set. "
      ]
    },
    {
      "cell_type": "code",
      "metadata": {
        "id": "v2LE3y50hVIj",
        "colab_type": "code",
        "outputId": "d7150d19-3e38-4504-add7-a0010d8669e9",
        "colab": {
          "base_uri": "https://localhost:8080/",
          "height": 283
        }
      },
      "source": [
        "test_predictions = model.predict(normed_test_data).flatten()\n",
        "\n",
        "plt.scatter(y_test.array, test_predictions, s=2)\n",
        "plt.xlabel('True Values')\n",
        "plt.ylabel('Predictions')\n",
        "plt.axis('equal')\n",
        "plt.axis('square')\n",
        "plt.xlim([400, plt.xlim()[1]])\n",
        "plt.ylim([400, plt.ylim()[1]])\n",
        "_ = plt.plot([400, 500], [400, 500], color='black', linestyle='dashed')\n",
        "plt.show()"
      ],
      "execution_count": 0,
      "outputs": [
        {
          "output_type": "display_data",
          "data": {
            "image/png": "[encoded data removed]",
            "text/plain": [
              "<Figure size 432x288 with 1 Axes>"
            ]
          },
          "metadata": {
            "tags": []
          }
        }
      ]
    },
    {
      "cell_type": "code",
      "metadata": {
        "id": "BXLgLglsFqFr",
        "colab_type": "code",
        "outputId": "28c0bb73-b40b-4a15-fef6-b8b7eb87cef5",
        "colab": {
          "base_uri": "https://localhost:8080/",
          "height": 34
        }
      },
      "source": [
        "# Check the MAE as well\n",
        "\n",
        "from sklearn.metrics import mean_absolute_error\n",
        "\n",
        "print(\"MAE on test set is: {0:.2f}\".format(mean_absolute_error(y_test.array, test_predictions)))"
      ],
      "execution_count": 0,
      "outputs": [
        {
          "output_type": "stream",
          "text": [
            "MAE on test set is: 3.44\n"
          ],
          "name": "stdout"
        }
      ]
    }
  ]
}